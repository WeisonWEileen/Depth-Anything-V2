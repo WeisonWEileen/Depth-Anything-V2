{
 "cells": [
  {
   "cell_type": "code",
   "execution_count": 1,
   "metadata": {},
   "outputs": [],
   "source": [
    "import argparse\n",
    "import torch\n",
    "from  matplotlib import pyplot as plt\n",
    "import cv2\n",
    "import time\n",
    "import sys\n",
    "import numpy as np\n",
    "\n",
    "%matplotlib inline\n",
    "\n",
    "sys.path.append('../')\n",
    "\n",
    "from depth_anything_v2.dpt import DepthAnythingV2\n",
    "\n",
    "model_configs = {\n",
    "    'vits': {'encoder': 'vits', 'features': 64, 'out_channels': [48, 96, 192, 384]},\n",
    "    'vitb': {'encoder': 'vitb', 'features': 128, 'out_channels': [96, 192, 384, 768]},\n",
    "    'vitl': {'encoder': 'vitl', 'features': 256, 'out_channels': [256, 512, 1024, 1024]},\n",
    "    'vitg': {'encoder': 'vitg', 'features': 384, 'out_channels': [1536, 1536, 1536, 1536]}\n",
    "}\n",
    " \n",
    "\n",
    "def get_depth_path(old_name):  \n",
    "    dirname_parts = old_name.split('/')  \n",
    "    dirname_parts[-2] = 'groundtruth_depth' \n",
    "\n",
    "    filename_parts = dirname_parts[-1].split('_')  \n",
    "    filename_parts[-4] = 'groundtruth_depth'\n",
    "\n",
    "    new_filename = '_'.join(filename_parts)\n",
    "\n",
    "    dirname_parts[-1] = new_filename\n",
    "\n",
    "    new_dirname = '/'.join(dirname_parts)\n",
    "\n",
    "    print(f\"depth image : {new_dirname}\")\n",
    "    # exit()\n",
    "    return new_dirname\n",
    "\n",
    "def show_img(img):\n",
    "    # img = img[:,:,::-1] \t# transform image to rgb\n",
    "    plt.imshow(img)\n",
    "    plt.show()"
   ]
  },
  {
   "cell_type": "code",
   "execution_count": 2,
   "metadata": {},
   "outputs": [],
   "source": [
    "def get_depth_path(old_name):  \n",
    "\n",
    "    # get the corresponse path of a rgb_image in the folder structure of kitti depth dataset\n",
    "\n",
    "    dirname_parts = old_name.split('/')  \n",
    "    dirname_parts[-2] = 'groundtruth_depth' \n",
    "\n",
    "    filename_parts = dirname_parts[-1].split('_')  \n",
    "    filename_parts[-4] = 'groundtruth_depth'\n",
    "\n",
    "    new_filename = '_'.join(filename_parts)\n",
    "\n",
    "    dirname_parts[-1] = new_filename\n",
    "\n",
    "    new_dirname = '/'.join(dirname_parts)\n",
    "\n",
    "    return new_dirname\n",
    "\n",
    "img_raw_path = '/home/bwshen/Desktop/pw/Depth-Anything-V2/depth_selection/val_selection_cropped/image/2011_09_26_drive_0002_sync_image_0000000023_image_02.png'\n",
    "\n",
    "DEVICE = 'cuda'\n",
    "encoder = 'vits'\n",
    "sys.path.append('./')\n",
    "from depth_anything_v2.dpt import DepthAnythingV2\n",
    "depth_anything = DepthAnythingV2(**model_configs[encoder])\n",
    "depth_anything.load_state_dict(torch.load(f'../checkpoints/depth_anything_v2_{encoder}.pth', map_location='cpu',weights_only=True))\n",
    "depth_anything = depth_anything.to(DEVICE).eval()\n",
    "pred_raw = depth_anything.infer_image(cv2.imread(img_raw_path), 518)\n",
    "depth_raw = cv2.imread(get_depth_path(img_raw_path),0)"
   ]
  },
  {
   "cell_type": "code",
   "execution_count": 3,
   "metadata": {},
   "outputs": [
    {
     "ename": "TypeError",
     "evalue": "show_img() got an unexpected keyword argument 'cmap'",
     "output_type": "error",
     "traceback": [
      "\u001b[0;31m---------------------------------------------------------------------------\u001b[0m",
      "\u001b[0;31mTypeError\u001b[0m                                 Traceback (most recent call last)",
      "Cell \u001b[0;32mIn[3], line 1\u001b[0m\n\u001b[0;32m----> 1\u001b[0m \u001b[43mshow_img\u001b[49m\u001b[43m(\u001b[49m\u001b[43mdepth_raw\u001b[49m\u001b[43m,\u001b[49m\u001b[43mcmap\u001b[49m\u001b[43m \u001b[49m\u001b[38;5;241;43m=\u001b[39;49m\u001b[43m \u001b[49m\u001b[43mplt\u001b[49m\u001b[38;5;241;43m.\u001b[39;49m\u001b[43mget_cmap\u001b[49m\u001b[43m(\u001b[49m\u001b[38;5;124;43m'\u001b[39;49m\u001b[38;5;124;43mgray\u001b[39;49m\u001b[38;5;124;43m'\u001b[39;49m\u001b[43m)\u001b[49m\u001b[43m)\u001b[49m\n",
      "\u001b[0;31mTypeError\u001b[0m: show_img() got an unexpected keyword argument 'cmap'"
     ]
    }
   ],
   "source": [
    "# show_img(depth_raw,cmap = plt.get_cmap('gray'))"
   ]
  }
 ],
 "metadata": {
  "kernelspec": {
   "display_name": "base",
   "language": "python",
   "name": "python3"
  },
  "language_info": {
   "codemirror_mode": {
    "name": "ipython",
    "version": 3
   },
   "file_extension": ".py",
   "mimetype": "text/x-python",
   "name": "python",
   "nbconvert_exporter": "python",
   "pygments_lexer": "ipython3",
   "version": "3.12.2"
  }
 },
 "nbformat": 4,
 "nbformat_minor": 2
}
