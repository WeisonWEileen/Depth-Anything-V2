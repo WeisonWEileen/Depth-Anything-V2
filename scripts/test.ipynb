{
 "cells": [
  {
   "cell_type": "code",
   "execution_count": 1,
   "metadata": {},
   "outputs": [
    {
     "name": "stderr",
     "output_type": "stream",
     "text": [
      "xFormers not available\n",
      "xFormers not available\n"
     ]
    }
   ],
   "source": [
    "import argparse\n",
    "import torch\n",
    "import matplotlib\n",
    "import cv2\n",
    "import time\n",
    "import sys\n",
    "import numpy as np\n",
    "\n",
    "sys.path.append('/home/ares/Desktop/weison/Depth-Anything-V2')\n",
    "\n",
    "from depth_anything_v2.dpt import DepthAnythingV2\n",
    "\n",
    "model_configs = {\n",
    "    'vits': {'encoder': 'vits', 'features': 64, 'out_channels': [48, 96, 192, 384]},\n",
    "    'vitb': {'encoder': 'vitb', 'features': 128, 'out_channels': [96, 192, 384, 768]},\n",
    "    'vitl': {'encoder': 'vitl', 'features': 256, 'out_channels': [256, 512, 1024, 1024]},\n",
    "    'vitg': {'encoder': 'vitg', 'features': 384, 'out_channels': [1536, 1536, 1536, 1536]}\n",
    "}\n",
    " \n"
   ]
  },
  {
   "cell_type": "code",
   "execution_count": 2,
   "metadata": {},
   "outputs": [],
   "source": [
    "def get_depth_path(old_name):  \n",
    "    dirname_parts = old_name.split('/')  \n",
    "    dirname_parts[-2] = 'groundtruth_depth' \n",
    "\n",
    "    filename_parts = dirname_parts[-1].split('_')  \n",
    "    filename_parts[-4] = 'groundtruth_depth'\n",
    "\n",
    "    new_filename = '_'.join(filename_parts)\n",
    "\n",
    "    dirname_parts[-1] = new_filename\n",
    "\n",
    "    new_dirname = '/'.join(dirname_parts)\n",
    "\n",
    "    print(f\"depth image : {new_dirname}\")\n",
    "    # exit()\n",
    "    return new_dirname\n",
    "    \n",
    "\n",
    "\n",
    "def predict_depth(raw_image, encoder, grayscale=False, input_size=518):\n",
    "\n",
    "    depth_anything = DepthAnythingV2(**model_configs[encoder])\n",
    "    depth_anything.load_state_dict(torch.load(f'checkpoints/depth_anything_v2_{args.encoder}.pth', map_location='cpu'))\n",
    "    depth_anything = depth_anything.to(DEVICE).eval()\n",
    "\n",
    "    cmap = matplotlib.colormaps.get_cmap('Spectral_r')\n",
    "\n",
    "    \n",
    "    start_time = time.time()  \n",
    "    \n",
    "    depth = depth_anything.infer_image(raw_image, input_size)\n",
    "    \n",
    "    end_time =  time.time()\n",
    "    print(f\"inferce time: {(end_time - start_time)*1000} ms\")\n",
    "\n",
    "\n",
    "    depth = (depth - depth.min()) / (depth.max() - depth.min()) * 255.0\n",
    "    depth = depth.astype(np.uint8)\n",
    "        \n",
    "    if grayscale:\n",
    "        depth = np.repeat(depth[..., np.newaxis], 3, axis=-1)\n",
    "    else:\n",
    "        depth = (cmap(depth)[:, :, :3] * 255)[:, :, ::-1].astype(np.uint8)\n",
    "\n",
    "    return depth\n"
   ]
  },
  {
   "cell_type": "code",
   "execution_count": null,
   "metadata": {},
   "outputs": [],
   "source": [
    "if __name__ == '__main__':\n",
    "    parser = argparse.ArgumentParser(description='Test depth synchronization between ground truth and predicted depth maps by depth anything.')\n",
    "\n",
    "    # uncessary arguments\n",
    "    parser.add_argument('--input-size', type=int, default=518)\n",
    "\n",
    "\n",
    "    parser.add_argument('--raw_img_path', type=str, required=True, help='Path of ground truth depth maps.')\n",
    "    parser.add_argument('--encoder', type=str, default='vitl', choices=['vits', 'vitb', 'vitl', 'vitg'])\n",
    "    args = parser.parse_args()\n",
    "\n",
    "    DEVICE= 'cuda' if torch.cuda.is_available() else 'cpu'\n",
    "\n",
    "    raw_image = cv2.imread(args.raw_img_path)\n",
    "    pred_depth = predict_depth(raw_image, args.encoder)\n",
    "\n",
    "    ground_truth = cv2.imread(get_depth_path(args.raw_img_path))\n",
    "\n",
    "    split_region = np.ones((50, raw_image.shape[1], 3), dtype=np.uint8) * 255\n",
    "\n",
    "    combined_image = cv2.vconcat([raw_image, split_region,pred_depth,split_region, ground_truth])\n",
    "    while True:\n",
    "\n",
    "        cv2.imshow('combined', combined_image)\n",
    "\n",
    "        key = cv2.waitKey(1)\n",
    "\n",
    "        if key == ord('q'):\n",
    "            print(\"Q key pressed, exiting...\")\n",
    "            break\n",
    "    # closing all open windows\n",
    "    cv2.destroyAllWindows()"
   ]
  },
  {
   "cell_type": "code",
   "execution_count": 7,
   "metadata": {},
   "outputs": [
    {
     "name": "stdout",
     "output_type": "stream",
     "text": [
      "depth image : /home/ares/Desktop/weison/Depth-Anything-V2/depth_selection/val_selection_cropped/groundtruth_depth/2011_09_26_drive_0002_sync_groundtruth_depth_0000000005_image_02.png\n",
      "[[0 0 0 ... 0 0 0]\n",
      " [0 0 0 ... 0 0 0]\n",
      " [0 0 0 ... 0 0 0]\n",
      " ...\n",
      " [0 0 0 ... 0 0 0]\n",
      " [0 0 0 ... 0 0 0]\n",
      " [0 0 0 ... 0 0 0]]\n"
     ]
    }
   ],
   "source": [
    "raw_img_path = '/home/ares/Desktop/weison/Depth-Anything-V2/depth_selection/val_selection_cropped/image/2011_09_26_drive_0002_sync_image_0000000005_image_02.png'\n",
    "ground_truth = cv2.imread(get_depth_path(raw_img_path))\n",
    "gray_ground_truth = ground_truth[..., 0]\n",
    "print(gray_ground_truth)\n",
    "# cv2.imshow('ground_truth', ground_truth)"
   ]
  }
 ],
 "metadata": {
  "kernelspec": {
   "display_name": "base",
   "language": "python",
   "name": "python3"
  },
  "language_info": {
   "codemirror_mode": {
    "name": "ipython",
    "version": 3
   },
   "file_extension": ".py",
   "mimetype": "text/x-python",
   "name": "python",
   "nbconvert_exporter": "python",
   "pygments_lexer": "ipython3",
   "version": "3.11.7"
  }
 },
 "nbformat": 4,
 "nbformat_minor": 2
}
