{
 "cells": [
  {
   "cell_type": "code",
   "execution_count": 1,
   "metadata": {},
   "outputs": [],
   "source": [
    "import argparse\n",
    "import torch\n",
    "from  matplotlib import pyplot as plt\n",
    "import cv2\n",
    "import time\n",
    "import sys\n",
    "import numpy as np\n",
    "\n",
    "%matplotlib inline\n",
    "\n",
    "sys.path.append('../')\n",
    "\n",
    "from depth_anything_v2.dpt import DepthAnythingV2\n",
    "\n",
    "model_configs = {\n",
    "    'vits': {'encoder': 'vits', 'features': 64, 'out_channels': [48, 96, 192, 384]},\n",
    "    'vitb': {'encoder': 'vitb', 'features': 128, 'out_channels': [96, 192, 384, 768]},\n",
    "    'vitl': {'encoder': 'vitl', 'features': 256, 'out_channels': [256, 512, 1024, 1024]},\n",
    "    'vitg': {'encoder': 'vitg', 'features': 384, 'out_channels': [1536, 1536, 1536, 1536]}\n",
    "}\n",
    " \n",
    "\n",
    "def get_depth_path(old_name):  \n",
    "    dirname_parts = old_name.split('/')  \n",
    "    dirname_parts[-2] = 'groundtruth_depth' \n",
    "\n",
    "    filename_parts = dirname_parts[-1].split('_')  \n",
    "    filename_parts[-4] = 'groundtruth_depth'\n",
    "\n",
    "    new_filename = '_'.join(filename_parts)\n",
    "\n",
    "    dirname_parts[-1] = new_filename\n",
    "\n",
    "    new_dirname = '/'.join(dirname_parts)\n",
    "\n",
    "    print(f\"depth image : {new_dirname}\")\n",
    "    # exit()\n",
    "    return new_dirname\n",
    "\n",
    "def show_img(img):\n",
    "    # img = img[:,:,::-1] \t# transform image to rgb\n",
    "    plt.imshow(img)\n",
    "    plt.show()"
   ]
  },
  {
   "cell_type": "code",
   "execution_count": 2,
   "metadata": {},
   "outputs": [],
   "source": [
    "def get_depth_path(old_name):  \n",
    "\n",
    "    # get the corresponse path of a rgb_image in the folder structure of kitti depth dataset\n",
    "\n",
    "    dirname_parts = old_name.split('/')  \n",
    "    dirname_parts[-2] = 'groundtruth_depth' \n",
    "\n",
    "    filename_parts = dirname_parts[-1].split('_')  \n",
    "    filename_parts[-4] = 'groundtruth_depth'\n",
    "\n",
    "    new_filename = '_'.join(filename_parts)\n",
    "\n",
    "    dirname_parts[-1] = new_filename\n",
    "\n",
    "    new_dirname = '/'.join(dirname_parts)\n",
    "\n",
    "    return new_dirname\n",
    "\n",
    "img_raw_path = '/home/bwshen/Desktop/pw/Depth-Anything-V2/depth_selection/val_selection_cropped/image/2011_09_26_drive_0002_sync_image_0000000023_image_02.png'\n",
    "\n",
    "DEVICE = 'cuda'\n",
    "encoder = 'vits'\n",
    "sys.path.append('./')\n",
    "from depth_anything_v2.dpt import DepthAnythingV2\n",
    "depth_anything = DepthAnythingV2(**model_configs[encoder])\n",
    "depth_anything.load_state_dict(torch.load(f'../checkpoints/depth_anything_v2_{encoder}.pth', map_location='cpu',weights_only=True))\n",
    "depth_anything = depth_anything.to(DEVICE).eval()\n",
    "pred_raw = depth_anything.infer_image(cv2.imread(img_raw_path), 518)\n",
    "depth_raw = cv2.imread(get_depth_path(img_raw_path),0)"
   ]
  },
  {
   "cell_type": "code",
   "execution_count": 2,
   "metadata": {},
   "outputs": [],
   "source": [
    "gt = cv2.imread(\"/home/bwshen/Desktop/pw/Depth-Anything-V2/depth_selection/val_selection_cropped/groundtruth_depth/2011_09_26_drive_0002_sync_groundtruth_depth_0000000005_image_02.png\",0)"
   ]
  },
  {
   "cell_type": "code",
   "execution_count": 2,
   "metadata": {},
   "outputs": [],
   "source": [
    "\n",
    "import cv2\n",
    "import numpy as np\n",
    "\n",
    "# 读取保存的图像\n",
    "image_uint8 = cv2.imread(f'/home/bwshen/Desktop/pw/Depth-Anything-V2/output/5_pred.png', cv2.IMREAD_UNCHANGED)\n",
    "\n",
    "# 将图像从 uint8 转换回 float32\n",
    "image_float32 = image_uint8.astype(np.float32)\n"
   ]
  },
  {
   "cell_type": "code",
   "execution_count": 4,
   "metadata": {},
   "outputs": [
    {
     "data": {
      "text/plain": [
       "66533"
      ]
     },
     "execution_count": 4,
     "metadata": {},
     "output_type": "execute_result"
    }
   ],
   "source": [
    "\n",
    "np.count_nonzero(image_float32)"
   ]
  }
 ],
 "metadata": {
  "kernelspec": {
   "display_name": "base",
   "language": "python",
   "name": "python3"
  },
  "language_info": {
   "codemirror_mode": {
    "name": "ipython",
    "version": 3
   },
   "file_extension": ".py",
   "mimetype": "text/x-python",
   "name": "python",
   "nbconvert_exporter": "python",
   "pygments_lexer": "ipython3",
   "version": "3.12.2"
  }
 },
 "nbformat": 4,
 "nbformat_minor": 2
}
